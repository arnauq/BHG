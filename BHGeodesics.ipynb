{
 "cells": [
  {
   "cell_type": "code",
   "execution_count": 1,
   "metadata": {
    "ExecuteTime": {
     "end_time": "2018-01-27T17:42:58.956750Z",
     "start_time": "2018-01-27T17:42:58.329985Z"
    }
   },
   "outputs": [],
   "source": [
    "import numpy as np\n",
    "from scipy.integrate import odeint\n",
    "import matplotlib.pyplot as plt\n",
    "import matplotlib.animation as animation\n",
    "import astropy.constants as astroconst\n",
    "%config InlineBackend.figure_format = 'svg'\n",
    "import scipy.misc"
   ]
  },
  {
   "cell_type": "code",
   "execution_count": null,
   "metadata": {
    "ExecuteTime": {
     "end_time": "2018-01-27T17:38:21.944244Z",
     "start_time": "2018-01-27T17:38:21.928670Z"
    }
   },
   "outputs": [],
   "source": [
    "Ms = astroconst.M_sun.value\n",
    "G = astroconst.G.value\n",
    "c = astroconst.c.value\n",
    "M = Ms\n",
    "print(M,c,G)\n",
    "rg = G*M/c**2\n",
    "Rs = 2*rg\n",
    "k=1\n",
    "#L = 2.76e13\n",
    "#r0 = 5.8e10\n",
    "r0 = 6*rg\n",
    "L = np.sqrt(12) * G * M /c\n",
    "#L = 1.6e-16 * 3*rg *c**2 \n",
    "E = V(6*rg)\n",
    "print(rg,L)\n",
    "print(np.sqrt(12)*c*Rs/(3*Rs)**2 /(2*np.pi))"
   ]
  },
  {
   "cell_type": "code",
   "execution_count": null,
   "metadata": {
    "ExecuteTime": {
     "end_time": "2018-01-27T17:39:05.211504Z",
     "start_time": "2018-01-27T17:39:05.024364Z"
    },
    "scrolled": false
   },
   "outputs": [],
   "source": [
    "def V(r):\n",
    "    return k*c**2/2 - G*M*k/r + L**2/(2*r**2) - G*M*L**2/(c**2*r**3)\n",
    "def dVdr(r):\n",
    "    return G*M*k/r**2 - L**2/r**3 + 3*G*M*L**2/(c**2*r**4)\n",
    "\n",
    "r = np.linspace(2*rg,10*rg,10000)\n",
    "print(r[np.argmax(V(r))])\n",
    "print(3*rg)\n",
    "#plt.ylim(4e16,6e16)\n",
    "plt.plot(r,V(r))\n",
    "#plt.ylim(3.98e16,4.0e16)\n",
    "#plt.plot(r,dVdr(r))\n",
    "#plt.plot(r,scipy.misc.derivative(V,r))#\n",
    "print(dVdr(6*rg), dVdr(10*rg))\n",
    "print(rg)"
   ]
  },
  {
   "cell_type": "code",
   "execution_count": null,
   "metadata": {
    "ExecuteTime": {
     "end_time": "2018-01-27T17:38:23.669074Z",
     "start_time": "2018-01-27T17:38:23.617368Z"
    }
   },
   "outputs": [],
   "source": [
    "# def drdtau(r):\n",
    "#     return -np.sqrt((e/c)**2 - asd(r))\n",
    "\n",
    "# def dphidtau(r):\n",
    "#     return l/r**2\n",
    "\n",
    "# def dtdtau(r):\n",
    "#     return e/(1-Rs/r)/c**2\n",
    "def V(r):\n",
    "    return k*c**2/2 - G*M*k/r + L**2/(2*r**2) - G*M*L**2/(c**2*r**3)\n",
    "def dVdr(r):\n",
    "    return G*M*k/r**2 - L**2/r**2 + 3*G*M*L**2/(c**2*r**4)\n",
    "\n",
    "def func(y,tau):\n",
    "    r = y[0]\n",
    "    vr = y[1]\n",
    "    phi = y[2]\n",
    "    t = y[3]\n",
    "    drdtau = vr\n",
    "    dvrdtau = -dVdr(r)\n",
    "    dphidtau = L/r**2\n",
    "    dtdtau = E/c**2 / (1-2*G*M/(c**2*r))\n",
    "    return np.asarray([drdtau, dvrdtau, dphidtau, dtdtau])\n"
   ]
  },
  {
   "cell_type": "code",
   "execution_count": null,
   "metadata": {
    "ExecuteTime": {
     "end_time": "2018-01-27T17:39:20.855651Z",
     "start_time": "2018-01-27T17:39:20.679085Z"
    }
   },
   "outputs": [],
   "source": [
    "tau0 = 0\n",
    "tau1 = 0.000001\n",
    "nsteps = 100000\n",
    "deltat = (tau1-tau0)/nsteps\n",
    "tau = np.linspace(tau0,tau1,nsteps)\n",
    "\n",
    "y0 = [r0,0, 0, tau0]\n",
    "y = odeint(func, y0, tau)\n",
    "plt.plot(tau, y[:,0])\n",
    "print(y[:,0])\n",
    "plt.plot(tau,y[:,2])"
   ]
  },
  {
   "cell_type": "code",
   "execution_count": null,
   "metadata": {
    "ExecuteTime": {
     "end_time": "2018-01-27T17:39:34.756930Z",
     "start_time": "2018-01-27T17:39:22.373330Z"
    }
   },
   "outputs": [],
   "source": [
    "xcoord = y[:,0] * np.cos(y[:,1]) / Rs\n",
    "ycoord = y[:,0] * np.sin(y[:,1]) / Rs\n",
    "circle = plt.Circle((0, 0), 1, color='black')\n",
    "fig,ax = plt.subplots()\n",
    "ax.add_artist(circle)\n",
    "plt.scatter(xcoord,ycoord,0.1)\n",
    "#xlim = np.nanmax(xcoord)\n",
    "#ylim = np.nanmax(ycoord)\n",
    "#limit = 10*y0[0] /Rs\n",
    "#plt.xlim(-limit,limit)\n",
    "#plt.ylim(-limit,limit)\n",
    "plt.xlabel('x')\n",
    "plt.ylabel('y')\n",
    "plt.gca().set_aspect('equal', adjustable='box')\n",
    "plt.show()\n"
   ]
  },
  {
   "cell_type": "code",
   "execution_count": null,
   "metadata": {
    "ExecuteTime": {
     "end_time": "2018-01-26T17:57:59.720581Z",
     "start_time": "2018-01-26T17:56:24.800398Z"
    }
   },
   "outputs": [],
   "source": [
    "fig = plt.figure()\n",
    "ax = fig.add_subplot(111, autoscale_on=False, xlim=(-limit, limit), ylim=(-limit, limit))\n",
    "ax.set_aspect('equal')\n",
    "ax.grid()\n",
    "\n",
    "line1, = ax.plot([], [],  ms=2,label='particle')\n",
    "\n",
    "\n",
    "time_template = 'time = %.1fs'\n",
    "time_text = ax.text(0, 5, '', transform=ax.transAxes)\n",
    "circle = plt.Circle((0, 0), 2, color='black')\n",
    "ax.add_artist(circle)\n",
    "\n",
    "\n",
    "plt.legend()\n",
    "\n",
    "def init():\n",
    "    line1.set_data([], [])\n",
    "    time_text.set_text('')\n",
    "    return line1, time_text\n",
    "\n",
    "\n",
    "def animate(i):\n",
    "    if i > 10:\n",
    "        line1.set_data(xcoord[i-10:i], ycoord[i-10:i])\n",
    "    else:\n",
    "        line1.set_data(xcoord[:i], ycoord[:i])\n",
    "\n",
    "#    time_text.set_text(time_template % (i*deltat))\n",
    "    return line1,time_text\n",
    "\n",
    "print(\"Creating animation, this will take some time...\")\n",
    "ani = animation.FuncAnimation(fig, animate, np.arange(1, len(y)),\n",
    "                              interval=25, blit=True, init_func=init)\n",
    "filetosave = 'bh.mp4'\n",
    "ani.save(filetosave, fps=30,dpi=300, bitrate=-1)\n",
    "#plt.show()\n"
   ]
  },
  {
   "cell_type": "code",
   "execution_count": null,
   "metadata": {
    "ExecuteTime": {
     "end_time": "2018-01-18T16:13:45.830118Z",
     "start_time": "2018-01-18T16:13:42.385Z"
    }
   },
   "outputs": [],
   "source": [
    "y = np.loadtxt(\"cpp/src/Geodesic.out\")\n",
    "xcoord = y[:,1] * np.cos(y[:,2])\n",
    "ycoord = y[:,1] * np.sin(y[:,2])\n",
    "circle = plt.Circle((0, 0), 2, color='black')\n",
    "fig,ax = plt.subplots()\n",
    "ax.add_artist(circle)\n",
    "plt.scatter(xcoord,ycoord,1.2)\n",
    "#xlim = np.nanmax(xcoord)\n",
    "#ylim = np.nanmax(ycoord)\n",
    "limit = y0[0]\n",
    "plt.xlim(-limit,limit)\n",
    "plt.ylim(-limit,limit)\n",
    "plt.xlabel('x')\n",
    "plt.ylabel('y')\n",
    "plt.gca().set_aspect('equal', adjustable='box')"
   ]
  },
  {
   "cell_type": "code",
   "execution_count": null,
   "metadata": {
    "ExecuteTime": {
     "end_time": "2018-01-18T16:47:19.809348Z",
     "start_time": "2018-01-18T16:47:19.688128Z"
    }
   },
   "outputs": [],
   "source": []
  },
  {
   "cell_type": "code",
   "execution_count": null,
   "metadata": {},
   "outputs": [],
   "source": []
  }
 ],
 "metadata": {
  "kernelspec": {
   "display_name": "Python 3",
   "language": "python",
   "name": "python3"
  },
  "language_info": {
   "codemirror_mode": {
    "name": "ipython",
    "version": 3
   },
   "file_extension": ".py",
   "mimetype": "text/x-python",
   "name": "python",
   "nbconvert_exporter": "python",
   "pygments_lexer": "ipython3",
   "version": "3.6.4"
  }
 },
 "nbformat": 4,
 "nbformat_minor": 2
}
