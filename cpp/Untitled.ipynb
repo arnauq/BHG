{
 "cells": [
  {
   "cell_type": "code",
   "execution_count": 49,
   "metadata": {
    "ExecuteTime": {
     "end_time": "2018-01-27T21:40:25.962432Z",
     "start_time": "2018-01-27T21:40:25.947216Z"
    }
   },
   "outputs": [],
   "source": [
    "import numpy as np\n",
    "import matplotlib.pyplot as plt\n",
    "#%config InlineBackend.figure_format = 'svg'\n",
    "import astropy.constants as astroconst\n",
    "import os"
   ]
  },
  {
   "cell_type": "code",
   "execution_count": 123,
   "metadata": {
    "ExecuteTime": {
     "end_time": "2018-01-27T21:57:44.999794Z",
     "start_time": "2018-01-27T21:57:44.552285Z"
    }
   },
   "outputs": [
    {
     "name": "stdout",
     "output_type": "stream",
     "text": [
      "src/bhg -r 3.000000 -L 63701.971200 -n 100000 -T 5000.000000 -p 0.000000 -M 1.000000 -g\n"
     ]
    },
    {
     "data": {
      "text/plain": [
       "0"
      ]
     },
     "execution_count": 123,
     "metadata": {},
     "output_type": "execute_result"
    }
   ],
   "source": [
    "h = astroconst.h.value\n",
    "c = astroconst.c.value\n",
    "Ms = astroconst.M_sun.value\n",
    "m = 1\n",
    "M = m * Ms\n",
    "G = astroconst.G.value\n",
    "n = 100000\n",
    "T= 1000\n",
    "Rs = 2.*G*M/c**2\n",
    "#r0 = 5.8e10\n",
    "r0 = 3\n",
    "vr0 = 0\n",
    "L = 1.6e-16 * 3./2.*Rs *c**2 \n",
    "phi = 0\n",
    "cmd = \"src/bhg -r %f -L %f -n %d -T %f -p %f -M %f -g\"%(r0,L,n,T,phi,m)\n",
    "print(cmd)\n",
    "os.system(cmd)"
   ]
  },
  {
   "cell_type": "code",
   "execution_count": null,
   "metadata": {
    "ExecuteTime": {
     "end_time": "2018-01-27T21:53:28.506025Z",
     "start_time": "2018-01-27T21:53:28.497719Z"
    }
   },
   "outputs": [],
   "source": []
  },
  {
   "cell_type": "code",
   "execution_count": 126,
   "metadata": {
    "ExecuteTime": {
     "end_time": "2018-01-27T21:58:10.657007Z",
     "start_time": "2018-01-27T21:58:09.360415Z"
    }
   },
   "outputs": [
    {
     "name": "stdout",
     "output_type": "stream",
     "text": [
      "[ 2.99999992  2.99999992  2.99999991 ..., -1.20392725 -1.20403687\n",
      " -1.2040452 ] [  0.00000000e+00   1.21730997e-04   2.43461993e-04 ...,   9.71200020e+00\n",
      "   9.71208897e+00   9.71215618e+00]\n"
     ]
    },
    {
     "data": {
      "image/png": "[encoded data removed]",
      "text/plain": [
       "<matplotlib.figure.Figure at 0x7f6ab75ba828>"
      ]
     },
     "metadata": {},
     "output_type": "display_data"
    },
    {
     "data": {
      "image/png": "[encoded data removed]",
      "text/plain": [
       "<matplotlib.figure.Figure at 0x7f6ab9b87ef0>"
      ]
     },
     "metadata": {},
     "output_type": "display_data"
    }
   ],
   "source": [
    "data = np.loadtxt('Geodesic.out')\n",
    "plt.plot(data[:,0],data[:,3])\n",
    "xcoord = data[:,1] * np.cos(data[:,3]) / Rs\n",
    "ycoord = data[:,1] * np.sin(data[:,3]) / Rs\n",
    "print(xcoord,ycoord)\n",
    "circle = plt.Circle((0, 0), 1, color='black')\n",
    "fig,ax = plt.subplots()\n",
    "ax.add_artist(circle)\n",
    "limit = 10\n",
    "plt.ylim(-limit,limit)\n",
    "plt.xlim(-limit,limit)\n",
    "plt.gca().set_aspect('equal', adjustable='box')\n",
    "xcoord2=xcoord\n",
    "ycoord2=ycoord\n",
    "plt.plot(xcoord2,ycoord2, '-o', ms=1)\n",
    "plt.savefig(\"asd.png\")"
   ]
  },
  {
   "cell_type": "code",
   "execution_count": 80,
   "metadata": {
    "ExecuteTime": {
     "end_time": "2018-01-27T21:48:33.924113Z",
     "start_time": "2018-01-27T21:48:33.919000Z"
    }
   },
   "outputs": [
    {
     "name": "stdout",
     "output_type": "stream",
     "text": [
      "[1, 3, 5, 7, 9]\n"
     ]
    }
   ],
   "source": [
    "a=[1,2,3,4,5,6,7,8,9]\n",
    "a=a[::2]\n",
    "print(a)"
   ]
  },
  {
   "cell_type": "code",
   "execution_count": null,
   "metadata": {},
   "outputs": [],
   "source": []
  }
 ],
 "metadata": {
  "kernelspec": {
   "display_name": "Python 3",
   "language": "python",
   "name": "python3"
  },
  "language_info": {
   "codemirror_mode": {
    "name": "ipython",
    "version": 3
   },
   "file_extension": ".py",
   "mimetype": "text/x-python",
   "name": "python",
   "nbconvert_exporter": "python",
   "pygments_lexer": "ipython3",
   "version": "3.6.4"
  }
 },
 "nbformat": 4,
 "nbformat_minor": 2
}
