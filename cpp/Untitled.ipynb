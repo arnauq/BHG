{
 "cells": [
  {
   "cell_type": "code",
   "execution_count": 104,
   "metadata": {
    "ExecuteTime": {
     "end_time": "2018-01-27T18:08:05.169757Z",
     "start_time": "2018-01-27T18:08:05.149960Z"
    }
   },
   "outputs": [],
   "source": [
    "import numpy as np\n",
    "import matplotlib.pyplot as plt\n",
    "#%config InlineBackend.figure_format = 'svg'\n",
    "import astropy.constants as astroconst\n",
    "import os"
   ]
  },
  {
   "cell_type": "code",
   "execution_count": 186,
   "metadata": {
    "ExecuteTime": {
     "end_time": "2018-01-27T18:36:06.186786Z",
     "start_time": "2018-01-27T18:36:02.191096Z"
    }
   },
   "outputs": [
    {
     "name": "stdout",
     "output_type": "stream",
     "text": [
      "src/bhg -r 10 -L 5312172596416684 -n 1000000 -T 100 -p 1 -M 1000.000000 \n"
     ]
    },
    {
     "data": {
      "text/plain": [
       "0"
      ]
     },
     "execution_count": 186,
     "metadata": {},
     "output_type": "execute_result"
    }
   ],
   "source": [
    "h = astroconst.h.value\n",
    "c = astroconst.c.value\n",
    "Ms = astroconst.M_sun.value\n",
    "m = 1e3\n",
    "M = m * Ms\n",
    "G = astroconst.G.value\n",
    "L = np.sqrt(12) * np.sqrt(12)*G*M/c\n",
    "n = 1000000\n",
    "T = 100\n",
    "phi = np.pi/2.\n",
    "r0 = 10\n",
    "cmd = \"src/bhg -r %d -L %d -n %d -T %d -p %d -M %f \"%(r0,L,n,T,phi,m)\n",
    "print(cmd)\n",
    "os.system(cmd)"
   ]
  },
  {
   "cell_type": "code",
   "execution_count": 187,
   "metadata": {
    "ExecuteTime": {
     "end_time": "2018-01-27T18:36:13.864119Z",
     "start_time": "2018-01-27T18:36:06.191858Z"
    }
   },
   "outputs": [
    {
     "name": "stdout",
     "output_type": "stream",
     "text": [
      "[[  0.00000000e+00   1.47663000e+07   0.00000000e+00   1.00000000e+00\n",
      "    0.00000000e+00]\n",
      " [  1.00000000e-04   1.47663000e+07   5.52659000e+05   1.00244000e+00\n",
      "    1.12344000e+13]\n",
      " [  3.00000000e-04   1.47664000e+07   1.10531000e+06   1.00487000e+00\n",
      "    2.24689000e+13]\n",
      " ..., \n",
      " [  4.99998000e+07   2.92599000e+10   2.92524000e+08   2.93792000e+00\n",
      "    8.99536000e+18]\n",
      " [  4.99999000e+07   2.92599000e+10   2.92524000e+08   2.93792000e+00\n",
      "    8.99536000e+18]\n",
      " [  4.99999000e+07   2.92599000e+10   2.92524000e+08   2.93792000e+00\n",
      "    8.99537000e+18]]\n"
     ]
    },
    {
     "data": {
      "text/plain": [
       "[<matplotlib.lines.Line2D at 0x7f8fee846550>]"
      ]
     },
     "execution_count": 187,
     "metadata": {},
     "output_type": "execute_result"
    },
    {
     "data": {
      "image/png": "[encoded data removed]",
      "text/plain": [
       "<matplotlib.figure.Figure at 0x7f8f8d755b38>"
      ]
     },
     "metadata": {},
     "output_type": "display_data"
    },
    {
     "data": {
      "image/png": "[encoded data removed]",
      "text/plain": [
       "<matplotlib.figure.Figure at 0x7f8f8d8061d0>"
      ]
     },
     "metadata": {},
     "output_type": "display_data"
    }
   ],
   "source": [
    "data = np.loadtxt('Geodesic.out')\n",
    "print(data)\n",
    "plt.plot(data[:,0],data[:,2])\n",
    "\n",
    "Rs = 2*G*M/c**2\n",
    "xcoord = data[:,1] * np.cos(data[:,3]) / Rs\n",
    "ycoord = data[:,1] * np.sin(data[:,3]) / Rs\n",
    "circle = plt.Circle((0, 0), 1, color='black')\n",
    "fig,ax = plt.subplots()\n",
    "ax.add_artist(circle)\n",
    "limit = r0\n",
    "plt.ylim(-limit,limit)\n",
    "plt.xlim(-limit,limit)\n",
    "plt.gca().set_aspect('equal', adjustable='box')\n",
    "\n",
    "plt.plot(xcoord,ycoord, '-o', ms=1)"
   ]
  },
  {
   "cell_type": "code",
   "execution_count": 176,
   "metadata": {
    "ExecuteTime": {
     "end_time": "2018-01-27T18:33:10.373671Z",
     "start_time": "2018-01-27T18:33:10.363730Z"
    }
   },
   "outputs": [
    {
     "name": "stdout",
     "output_type": "stream",
     "text": [
      "295325007610.0249\n"
     ]
    }
   ],
   "source": [
    "print(Rs)"
   ]
  },
  {
   "cell_type": "code",
   "execution_count": null,
   "metadata": {},
   "outputs": [],
   "source": []
  }
 ],
 "metadata": {
  "kernelspec": {
   "display_name": "Python 3",
   "language": "python",
   "name": "python3"
  },
  "language_info": {
   "codemirror_mode": {
    "name": "ipython",
    "version": 3
   },
   "file_extension": ".py",
   "mimetype": "text/x-python",
   "name": "python",
   "nbconvert_exporter": "python",
   "pygments_lexer": "ipython3",
   "version": "3.6.4"
  }
 },
 "nbformat": 4,
 "nbformat_minor": 2
}
